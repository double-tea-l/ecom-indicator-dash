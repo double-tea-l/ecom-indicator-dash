{
 "cells": [
  {
   "cell_type": "code",
   "execution_count": 26,
   "metadata": {},
   "outputs": [
    {
     "name": "stdout",
     "output_type": "stream",
     "text": [
      "{'Nasdaq': 'https://raw.githubusercontent.com/rreichel3/US-Stock-Symbols/main/nasdaq/nasdaq_full_tickers.json', 'NYSE': 'https://raw.githubusercontent.com/rreichel3/US-Stock-Symbols/main/nyse/nyse_full_tickers.json', 'AMEX': 'https://raw.githubusercontent.com/rreichel3/US-Stock-Symbols/main/amex/amex_full_tickers.json'}\n"
     ]
    },
    {
     "data": {
      "text/html": [
       "<div>\n",
       "<style scoped>\n",
       "    .dataframe tbody tr th:only-of-type {\n",
       "        vertical-align: middle;\n",
       "    }\n",
       "\n",
       "    .dataframe tbody tr th {\n",
       "        vertical-align: top;\n",
       "    }\n",
       "\n",
       "    .dataframe thead th {\n",
       "        text-align: right;\n",
       "    }\n",
       "</style>\n",
       "<table border=\"1\" class=\"dataframe\">\n",
       "  <thead>\n",
       "    <tr style=\"text-align: right;\">\n",
       "      <th></th>\n",
       "      <th>symbol</th>\n",
       "      <th>name</th>\n",
       "      <th>lastsale</th>\n",
       "      <th>netchange</th>\n",
       "      <th>pctchange</th>\n",
       "      <th>volume</th>\n",
       "      <th>marketCap</th>\n",
       "      <th>country</th>\n",
       "      <th>ipoyear</th>\n",
       "      <th>industry</th>\n",
       "      <th>sector</th>\n",
       "      <th>url</th>\n",
       "      <th>Exchange</th>\n",
       "    </tr>\n",
       "  </thead>\n",
       "  <tbody>\n",
       "    <tr>\n",
       "      <th>0</th>\n",
       "      <td>AACG</td>\n",
       "      <td>ATA Creativity Global American Depositary Shares</td>\n",
       "      <td>$0.82</td>\n",
       "      <td>-0.0096</td>\n",
       "      <td>-1.157%</td>\n",
       "      <td>4725</td>\n",
       "      <td>26240107.00</td>\n",
       "      <td>China</td>\n",
       "      <td>2008</td>\n",
       "      <td>Other Consumer Services</td>\n",
       "      <td>Real Estate</td>\n",
       "      <td>/market-activity/stocks/aacg</td>\n",
       "      <td>Nasdaq</td>\n",
       "    </tr>\n",
       "    <tr>\n",
       "      <th>1</th>\n",
       "      <td>AACI</td>\n",
       "      <td>Armada Acquisition Corp. I Common Stock</td>\n",
       "      <td>$11.42</td>\n",
       "      <td>-0.03</td>\n",
       "      <td>-0.262%</td>\n",
       "      <td>12384</td>\n",
       "      <td>0.00</td>\n",
       "      <td>United States</td>\n",
       "      <td>2021</td>\n",
       "      <td>Blank Checks</td>\n",
       "      <td>Finance</td>\n",
       "      <td>/market-activity/stocks/aaci</td>\n",
       "      <td>Nasdaq</td>\n",
       "    </tr>\n",
       "    <tr>\n",
       "      <th>2</th>\n",
       "      <td>AACIU</td>\n",
       "      <td>Armada Acquisition Corp. I Unit</td>\n",
       "      <td>$11.43</td>\n",
       "      <td>0.00</td>\n",
       "      <td>0.00%</td>\n",
       "      <td>2</td>\n",
       "      <td>0.00</td>\n",
       "      <td>United States</td>\n",
       "      <td>2021</td>\n",
       "      <td>Blank Checks</td>\n",
       "      <td>Finance</td>\n",
       "      <td>/market-activity/stocks/aaciu</td>\n",
       "      <td>Nasdaq</td>\n",
       "    </tr>\n",
       "    <tr>\n",
       "      <th>3</th>\n",
       "      <td>AACIW</td>\n",
       "      <td>Armada Acquisition Corp. I Warrant</td>\n",
       "      <td>$0.15</td>\n",
       "      <td>0.0295</td>\n",
       "      <td>24.481%</td>\n",
       "      <td>200</td>\n",
       "      <td>0.00</td>\n",
       "      <td>United States</td>\n",
       "      <td>2021</td>\n",
       "      <td>Blank Checks</td>\n",
       "      <td>Finance</td>\n",
       "      <td>/market-activity/stocks/aaciw</td>\n",
       "      <td>Nasdaq</td>\n",
       "    </tr>\n",
       "    <tr>\n",
       "      <th>4</th>\n",
       "      <td>AADI</td>\n",
       "      <td>Aadi Bioscience Inc. Common Stock</td>\n",
       "      <td>$1.69</td>\n",
       "      <td>0.06</td>\n",
       "      <td>3.681%</td>\n",
       "      <td>292157</td>\n",
       "      <td>41496606.00</td>\n",
       "      <td>United States</td>\n",
       "      <td></td>\n",
       "      <td>Biotechnology: Pharmaceutical Preparations</td>\n",
       "      <td>Health Care</td>\n",
       "      <td>/market-activity/stocks/aadi</td>\n",
       "      <td>Nasdaq</td>\n",
       "    </tr>\n",
       "  </tbody>\n",
       "</table>\n",
       "</div>"
      ],
      "text/plain": [
       "  symbol                                              name lastsale netchange  \\\n",
       "0   AACG  ATA Creativity Global American Depositary Shares    $0.82   -0.0096   \n",
       "1   AACI           Armada Acquisition Corp. I Common Stock   $11.42     -0.03   \n",
       "2  AACIU                   Armada Acquisition Corp. I Unit   $11.43      0.00   \n",
       "3  AACIW                Armada Acquisition Corp. I Warrant    $0.15    0.0295   \n",
       "4   AADI                 Aadi Bioscience Inc. Common Stock    $1.69      0.06   \n",
       "\n",
       "  pctchange  volume    marketCap        country ipoyear  \\\n",
       "0   -1.157%    4725  26240107.00          China    2008   \n",
       "1   -0.262%   12384         0.00  United States    2021   \n",
       "2     0.00%       2         0.00  United States    2021   \n",
       "3   24.481%     200         0.00  United States    2021   \n",
       "4    3.681%  292157  41496606.00  United States           \n",
       "\n",
       "                                     industry       sector  \\\n",
       "0                     Other Consumer Services  Real Estate   \n",
       "1                                Blank Checks      Finance   \n",
       "2                                Blank Checks      Finance   \n",
       "3                                Blank Checks      Finance   \n",
       "4  Biotechnology: Pharmaceutical Preparations  Health Care   \n",
       "\n",
       "                             url Exchange  \n",
       "0   /market-activity/stocks/aacg   Nasdaq  \n",
       "1   /market-activity/stocks/aaci   Nasdaq  \n",
       "2  /market-activity/stocks/aaciu   Nasdaq  \n",
       "3  /market-activity/stocks/aaciw   Nasdaq  \n",
       "4   /market-activity/stocks/aadi   Nasdaq  "
      ]
     },
     "execution_count": 26,
     "metadata": {},
     "output_type": "execute_result"
    }
   ],
   "source": [
    "import pandas as pd\n",
    "import yfinance as yf\n",
    "import requests\n",
    "import re\n",
    "import json\n",
    "\n",
    "\n",
    "urls = {\n",
    "    \"Nasdaq\": 'https://raw.githubusercontent.com/rreichel3/US-Stock-Symbols/main/nasdaq/nasdaq_full_tickers.json',\n",
    "    \"NYSE\": 'https://raw.githubusercontent.com/rreichel3/US-Stock-Symbols/main/nyse/nyse_full_tickers.json',\n",
    "    \"AMEX\": 'https://raw.githubusercontent.com/rreichel3/US-Stock-Symbols/main/amex/amex_full_tickers.json'\n",
    "}\n",
    "\n",
    "# Now urls is a dictionary with the keys \"Nasdaq\", \"NYSE\", and \"AMEX\" each associated with their respective URL\n",
    "print(urls)\n",
    "\n",
    "# Fetch the content of the JSON file\n",
    "df = pd.DataFrame()\n",
    "\n",
    "for key, url in urls.items():\n",
    "    response = requests.get(url)\n",
    "    df_tmp = pd.DataFrame(response.json())\n",
    "    df_tmp['Exchange'] = key\n",
    "    df = pd.concat([df, df_tmp], ignore_index = True)\n",
    "\n",
    "# save a local copy\n",
    "# df.to_csv('us_symbol_tickers.csv', index = False)\n",
    "df.head()"
   ]
  },
  {
   "cell_type": "code",
   "execution_count": 34,
   "metadata": {},
   "outputs": [],
   "source": [
    "df['marketCap'] = pd.to_numeric(df['marketCap'], errors='coerce')\n",
    "df['marketCap'] = df['marketCap'].fillna(0)\n",
    "df['marketCap'] = df['marketCap'].astype(int)\n",
    "\n",
    "df = df.sort_values(by=['marketCap'], ascending= False).reset_index(drop = True)\n",
    "df['MarketCap_pct'] = df['marketCap'] / df['marketCap'].sum()\n",
    "df['MarketCap_pct_cumsum'] = df['MarketCap_pct'].cumsum()\n",
    "df_top_95pct = df[df['MarketCap_pct_cumsum'] <= 0.95]"
   ]
  },
  {
   "cell_type": "code",
   "execution_count": 50,
   "metadata": {},
   "outputs": [
    {
     "data": {
      "application/vnd.plotly.v1+json": {
       "config": {
        "plotlyServerURL": "https://plot.ly"
       },
       "data": [
        {
         "alignmentgroup": "True",
         "hovertemplate": "Market Cap Percentage=%{x}<br>Industry=%{y}<extra></extra>",
         "legendgroup": "",
         "marker": {
          "color": "#000001",
          "pattern": {
           "shape": ""
          }
         },
         "name": "",
         "offsetgroup": "",
         "orientation": "h",
         "showlegend": false,
         "textposition": "auto",
         "type": "bar",
         "x": [
          0.08876570460551514,
          0.08126132305053696,
          0.07991786872738005,
          0.051232899254910126,
          0.047848511875017014,
          0.03513676711005219,
          0.033860084945507345,
          0.03154027727735726,
          0.030816582770506144,
          0.02858579477262376,
          0.019432751463783884,
          0.018848486074021,
          0.018225856709829208,
          0.01773825330189941,
          0.01745459359017125,
          0.015792004886850983,
          0.015429674974780523,
          0.014969194489188976,
          0.014699446441479747,
          0.014541150864965005,
          0.01359118210055881,
          0.012572330302865123,
          0.01184686038061165,
          0.011181374390734992,
          0.010606318990667862,
          0.010561232627058817
         ],
         "xaxis": "x",
         "y": [
          "Semiconductors",
          "Computer Software: Programming Data Processing",
          "Computer Software: Prepackaged Software",
          "Biotechnology: Pharmaceutical Preparations",
          "Computer Manufacturing",
          "",
          "Major Banks",
          "Industrial Machinery/Components",
          "Catalog/Specialty Distribution",
          "Business Services",
          "Real Estate Investment Trusts",
          "Oil & Gas Production",
          "EDP Services",
          "Integrated oil Companies",
          "Auto Manufacturing",
          "Commercial Banks",
          "Beverages (Production/Distribution)",
          "Department/Specialty Retail Stores",
          "Telecommunications Equipment",
          "Biotechnology: Biological Products (No Diagnostic Substances)",
          "Investment Bankers/Brokers/Service",
          "Electric Utilities: Central",
          "Medical Specialities",
          "Package Goods/Cosmetics",
          "Finance: Consumer Services",
          "Medical/Dental Instruments"
         ],
         "yaxis": "y"
        }
       ],
       "layout": {
        "barmode": "relative",
        "height": 600,
        "legend": {
         "tracegroupgap": 0
        },
        "margin": {
         "l": 450
        },
        "template": {
         "data": {
          "candlestick": [
           {
            "decreasing": {
             "line": {
              "color": "#000033"
             }
            },
            "increasing": {
             "line": {
              "color": "#000032"
             }
            },
            "type": "candlestick"
           }
          ],
          "contour": [
           {
            "colorscale": [
             [
              0,
              "#000011"
             ],
             [
              0.1111111111111111,
              "#000012"
             ],
             [
              0.2222222222222222,
              "#000013"
             ],
             [
              0.3333333333333333,
              "#000014"
             ],
             [
              0.4444444444444444,
              "#000015"
             ],
             [
              0.5555555555555556,
              "#000016"
             ],
             [
              0.6666666666666666,
              "#000017"
             ],
             [
              0.7777777777777778,
              "#000018"
             ],
             [
              0.8888888888888888,
              "#000019"
             ],
             [
              1,
              "#000020"
             ]
            ],
            "type": "contour"
           }
          ],
          "contourcarpet": [
           {
            "colorscale": [
             [
              0,
              "#000011"
             ],
             [
              0.1111111111111111,
              "#000012"
             ],
             [
              0.2222222222222222,
              "#000013"
             ],
             [
              0.3333333333333333,
              "#000014"
             ],
             [
              0.4444444444444444,
              "#000015"
             ],
             [
              0.5555555555555556,
              "#000016"
             ],
             [
              0.6666666666666666,
              "#000017"
             ],
             [
              0.7777777777777778,
              "#000018"
             ],
             [
              0.8888888888888888,
              "#000019"
             ],
             [
              1,
              "#000020"
             ]
            ],
            "type": "contourcarpet"
           }
          ],
          "heatmap": [
           {
            "colorscale": [
             [
              0,
              "#000011"
             ],
             [
              0.1111111111111111,
              "#000012"
             ],
             [
              0.2222222222222222,
              "#000013"
             ],
             [
              0.3333333333333333,
              "#000014"
             ],
             [
              0.4444444444444444,
              "#000015"
             ],
             [
              0.5555555555555556,
              "#000016"
             ],
             [
              0.6666666666666666,
              "#000017"
             ],
             [
              0.7777777777777778,
              "#000018"
             ],
             [
              0.8888888888888888,
              "#000019"
             ],
             [
              1,
              "#000020"
             ]
            ],
            "type": "heatmap"
           }
          ],
          "histogram2d": [
           {
            "colorscale": [
             [
              0,
              "#000011"
             ],
             [
              0.1111111111111111,
              "#000012"
             ],
             [
              0.2222222222222222,
              "#000013"
             ],
             [
              0.3333333333333333,
              "#000014"
             ],
             [
              0.4444444444444444,
              "#000015"
             ],
             [
              0.5555555555555556,
              "#000016"
             ],
             [
              0.6666666666666666,
              "#000017"
             ],
             [
              0.7777777777777778,
              "#000018"
             ],
             [
              0.8888888888888888,
              "#000019"
             ],
             [
              1,
              "#000020"
             ]
            ],
            "type": "histogram2d"
           }
          ],
          "icicle": [
           {
            "textfont": {
             "color": "white"
            },
            "type": "icicle"
           }
          ],
          "sankey": [
           {
            "textfont": {
             "color": "#000036"
            },
            "type": "sankey"
           }
          ],
          "scatter": [
           {
            "marker": {
             "line": {
              "width": 0
             }
            },
            "type": "scatter"
           }
          ],
          "table": [
           {
            "cells": {
             "fill": {
              "color": "#000038"
             },
             "font": {
              "color": "#000037"
             },
             "line": {
              "color": "#000039"
             }
            },
            "header": {
             "fill": {
              "color": "#000040"
             },
             "font": {
              "color": "#000036"
             },
             "line": {
              "color": "#000039"
             }
            },
            "type": "table"
           }
          ],
          "waterfall": [
           {
            "connector": {
             "line": {
              "color": "#000036",
              "width": 2
             }
            },
            "decreasing": {
             "marker": {
              "color": "#000033"
             }
            },
            "increasing": {
             "marker": {
              "color": "#000032"
             }
            },
            "totals": {
             "marker": {
              "color": "#000034"
             }
            },
            "type": "waterfall"
           }
          ]
         },
         "layout": {
          "coloraxis": {
           "colorscale": [
            [
             0,
             "#000011"
            ],
            [
             0.1111111111111111,
             "#000012"
            ],
            [
             0.2222222222222222,
             "#000013"
            ],
            [
             0.3333333333333333,
             "#000014"
            ],
            [
             0.4444444444444444,
             "#000015"
            ],
            [
             0.5555555555555556,
             "#000016"
            ],
            [
             0.6666666666666666,
             "#000017"
            ],
            [
             0.7777777777777778,
             "#000018"
            ],
            [
             0.8888888888888888,
             "#000019"
            ],
            [
             1,
             "#000020"
            ]
           ]
          },
          "colorscale": {
           "diverging": [
            [
             0,
             "#000021"
            ],
            [
             0.1,
             "#000022"
            ],
            [
             0.2,
             "#000023"
            ],
            [
             0.3,
             "#000024"
            ],
            [
             0.4,
             "#000025"
            ],
            [
             0.5,
             "#000026"
            ],
            [
             0.6,
             "#000027"
            ],
            [
             0.7,
             "#000028"
            ],
            [
             0.8,
             "#000029"
            ],
            [
             0.9,
             "#000030"
            ],
            [
             1,
             "#000031"
            ]
           ],
           "sequential": [
            [
             0,
             "#000011"
            ],
            [
             0.1111111111111111,
             "#000012"
            ],
            [
             0.2222222222222222,
             "#000013"
            ],
            [
             0.3333333333333333,
             "#000014"
            ],
            [
             0.4444444444444444,
             "#000015"
            ],
            [
             0.5555555555555556,
             "#000016"
            ],
            [
             0.6666666666666666,
             "#000017"
            ],
            [
             0.7777777777777778,
             "#000018"
            ],
            [
             0.8888888888888888,
             "#000019"
            ],
            [
             1,
             "#000020"
            ]
           ],
           "sequentialminus": [
            [
             0,
             "#000011"
            ],
            [
             0.1111111111111111,
             "#000012"
            ],
            [
             0.2222222222222222,
             "#000013"
            ],
            [
             0.3333333333333333,
             "#000014"
            ],
            [
             0.4444444444444444,
             "#000015"
            ],
            [
             0.5555555555555556,
             "#000016"
            ],
            [
             0.6666666666666666,
             "#000017"
            ],
            [
             0.7777777777777778,
             "#000018"
            ],
            [
             0.8888888888888888,
             "#000019"
            ],
            [
             1,
             "#000020"
            ]
           ]
          },
          "colorway": [
           "#000001",
           "#000002",
           "#000003",
           "#000004",
           "#000005",
           "#000006",
           "#000007",
           "#000008",
           "#000009",
           "#000010"
          ]
         }
        },
        "title": {
         "text": "Market Cap Percentage by Industry (Top 95% Stocks)"
        },
        "xaxis": {
         "anchor": "y",
         "domain": [
          0,
          1
         ],
         "tickangle": -45,
         "title": {
          "text": "Market Cap Percentage"
         }
        },
        "yaxis": {
         "anchor": "x",
         "categoryorder": "total ascending",
         "domain": [
          0,
          1
         ],
         "title": {
          "text": "Industry"
         }
        }
       }
      }
     },
     "metadata": {},
     "output_type": "display_data"
    }
   ],
   "source": [
    "sorted_industry_marketcap_sum = df.groupby(['industry'])['MarketCap_pct'].sum().reset_index(drop = False).sort_values(by='MarketCap_pct', ascending=False)\n",
    "\n",
    "sorted_industry_marketcap_sum = sorted_industry_marketcap_sum[sorted_industry_marketcap_sum['MarketCap_pct']>.01]\n",
    "\n",
    "import plotly.express as px\n",
    "\n",
    "# fig = px.bar(sorted_industry_marketcap_sum, y='industry', x='MarketCap_pct', \n",
    "#              title='Market Cap Percentage by Industry (Top 95% Stocks)',\n",
    "#              labels={'industry': 'Industry', 'MarketCap_pct': 'Market Cap Percentage'},\n",
    "#              orientation='h',\n",
    "#              height=600)\n",
    "\n",
    "# # Update layout to ensure x-axis labels fit and bars are sorted\n",
    "# fig.update_layout(\n",
    "#     yaxis={'categoryorder':'total ascending'},  # Ensures bars are sorted by MarketCap_pct in descending order\n",
    "#     xaxis_tickangle=-45,  # Adjusts x-axis label angle to fit long strings\n",
    "#     margin=dict(l=450)  # Adds left margin to accommodate long industry names\n",
    "# )\n",
    "\n",
    "# # Show the plot\n",
    "# fig.show()"
   ]
  },
  {
   "cell_type": "code",
   "execution_count": 51,
   "metadata": {},
   "outputs": [
    {
     "data": {
      "text/html": [
       "<div>\n",
       "<style scoped>\n",
       "    .dataframe tbody tr th:only-of-type {\n",
       "        vertical-align: middle;\n",
       "    }\n",
       "\n",
       "    .dataframe tbody tr th {\n",
       "        vertical-align: top;\n",
       "    }\n",
       "\n",
       "    .dataframe thead th {\n",
       "        text-align: right;\n",
       "    }\n",
       "</style>\n",
       "<table border=\"1\" class=\"dataframe\">\n",
       "  <thead>\n",
       "    <tr style=\"text-align: right;\">\n",
       "      <th></th>\n",
       "      <th>industry</th>\n",
       "      <th>MarketCap_pct</th>\n",
       "    </tr>\n",
       "  </thead>\n",
       "  <tbody>\n",
       "    <tr>\n",
       "      <th>134</th>\n",
       "      <td>Semiconductors</td>\n",
       "      <td>0.088766</td>\n",
       "    </tr>\n",
       "    <tr>\n",
       "      <th>37</th>\n",
       "      <td>Computer Software: Programming Data Processing</td>\n",
       "      <td>0.081261</td>\n",
       "    </tr>\n",
       "    <tr>\n",
       "      <th>36</th>\n",
       "      <td>Computer Software: Prepackaged Software</td>\n",
       "      <td>0.079918</td>\n",
       "    </tr>\n",
       "    <tr>\n",
       "      <th>21</th>\n",
       "      <td>Biotechnology: Pharmaceutical Preparations</td>\n",
       "      <td>0.051233</td>\n",
       "    </tr>\n",
       "    <tr>\n",
       "      <th>35</th>\n",
       "      <td>Computer Manufacturing</td>\n",
       "      <td>0.047849</td>\n",
       "    </tr>\n",
       "    <tr>\n",
       "      <th>0</th>\n",
       "      <td></td>\n",
       "      <td>0.035137</td>\n",
       "    </tr>\n",
       "    <tr>\n",
       "      <th>75</th>\n",
       "      <td>Major Banks</td>\n",
       "      <td>0.033860</td>\n",
       "    </tr>\n",
       "    <tr>\n",
       "      <th>69</th>\n",
       "      <td>Industrial Machinery/Components</td>\n",
       "      <td>0.031540</td>\n",
       "    </tr>\n",
       "    <tr>\n",
       "      <th>30</th>\n",
       "      <td>Catalog/Specialty Distribution</td>\n",
       "      <td>0.030817</td>\n",
       "    </tr>\n",
       "    <tr>\n",
       "      <th>28</th>\n",
       "      <td>Business Services</td>\n",
       "      <td>0.028586</td>\n",
       "    </tr>\n",
       "    <tr>\n",
       "      <th>126</th>\n",
       "      <td>Real Estate Investment Trusts</td>\n",
       "      <td>0.019433</td>\n",
       "    </tr>\n",
       "    <tr>\n",
       "      <th>98</th>\n",
       "      <td>Oil &amp; Gas Production</td>\n",
       "      <td>0.018848</td>\n",
       "    </tr>\n",
       "    <tr>\n",
       "      <th>49</th>\n",
       "      <td>EDP Services</td>\n",
       "      <td>0.018226</td>\n",
       "    </tr>\n",
       "    <tr>\n",
       "      <th>71</th>\n",
       "      <td>Integrated oil Companies</td>\n",
       "      <td>0.017738</td>\n",
       "    </tr>\n",
       "    <tr>\n",
       "      <th>11</th>\n",
       "      <td>Auto Manufacturing</td>\n",
       "      <td>0.017455</td>\n",
       "    </tr>\n",
       "    <tr>\n",
       "      <th>33</th>\n",
       "      <td>Commercial Banks</td>\n",
       "      <td>0.015792</td>\n",
       "    </tr>\n",
       "    <tr>\n",
       "      <th>15</th>\n",
       "      <td>Beverages (Production/Distribution)</td>\n",
       "      <td>0.015430</td>\n",
       "    </tr>\n",
       "    <tr>\n",
       "      <th>44</th>\n",
       "      <td>Department/Specialty Retail Stores</td>\n",
       "      <td>0.014969</td>\n",
       "    </tr>\n",
       "    <tr>\n",
       "      <th>141</th>\n",
       "      <td>Telecommunications Equipment</td>\n",
       "      <td>0.014699</td>\n",
       "    </tr>\n",
       "    <tr>\n",
       "      <th>16</th>\n",
       "      <td>Biotechnology: Biological Products (No Diagnos...</td>\n",
       "      <td>0.014541</td>\n",
       "    </tr>\n",
       "    <tr>\n",
       "      <th>72</th>\n",
       "      <td>Investment Bankers/Brokers/Service</td>\n",
       "      <td>0.013591</td>\n",
       "    </tr>\n",
       "    <tr>\n",
       "      <th>50</th>\n",
       "      <td>Electric Utilities: Central</td>\n",
       "      <td>0.012572</td>\n",
       "    </tr>\n",
       "    <tr>\n",
       "      <th>81</th>\n",
       "      <td>Medical Specialities</td>\n",
       "      <td>0.011847</td>\n",
       "    </tr>\n",
       "    <tr>\n",
       "      <th>108</th>\n",
       "      <td>Package Goods/Cosmetics</td>\n",
       "      <td>0.011181</td>\n",
       "    </tr>\n",
       "    <tr>\n",
       "      <th>59</th>\n",
       "      <td>Finance: Consumer Services</td>\n",
       "      <td>0.010606</td>\n",
       "    </tr>\n",
       "    <tr>\n",
       "      <th>82</th>\n",
       "      <td>Medical/Dental Instruments</td>\n",
       "      <td>0.010561</td>\n",
       "    </tr>\n",
       "  </tbody>\n",
       "</table>\n",
       "</div>"
      ],
      "text/plain": [
       "                                              industry  MarketCap_pct\n",
       "134                                     Semiconductors       0.088766\n",
       "37      Computer Software: Programming Data Processing       0.081261\n",
       "36             Computer Software: Prepackaged Software       0.079918\n",
       "21          Biotechnology: Pharmaceutical Preparations       0.051233\n",
       "35                              Computer Manufacturing       0.047849\n",
       "0                                                            0.035137\n",
       "75                                         Major Banks       0.033860\n",
       "69                     Industrial Machinery/Components       0.031540\n",
       "30                      Catalog/Specialty Distribution       0.030817\n",
       "28                                   Business Services       0.028586\n",
       "126                      Real Estate Investment Trusts       0.019433\n",
       "98                                Oil & Gas Production       0.018848\n",
       "49                                        EDP Services       0.018226\n",
       "71                            Integrated oil Companies       0.017738\n",
       "11                                  Auto Manufacturing       0.017455\n",
       "33                                    Commercial Banks       0.015792\n",
       "15                 Beverages (Production/Distribution)       0.015430\n",
       "44                  Department/Specialty Retail Stores       0.014969\n",
       "141                       Telecommunications Equipment       0.014699\n",
       "16   Biotechnology: Biological Products (No Diagnos...       0.014541\n",
       "72                  Investment Bankers/Brokers/Service       0.013591\n",
       "50                         Electric Utilities: Central       0.012572\n",
       "81                                Medical Specialities       0.011847\n",
       "108                            Package Goods/Cosmetics       0.011181\n",
       "59                          Finance: Consumer Services       0.010606\n",
       "82                          Medical/Dental Instruments       0.010561"
      ]
     },
     "execution_count": 51,
     "metadata": {},
     "output_type": "execute_result"
    }
   ],
   "source": [
    "sorted_industry_marketcap_sum"
   ]
  },
  {
   "cell_type": "code",
   "execution_count": 22,
   "metadata": {},
   "outputs": [
    {
     "data": {
      "text/plain": [
       "7142"
      ]
     },
     "execution_count": 22,
     "metadata": {},
     "output_type": "execute_result"
    }
   ],
   "source": [
    "len(df['symbol'].str.strip().drop_duplicates())"
   ]
  },
  {
   "cell_type": "code",
   "execution_count": 7,
   "metadata": {},
   "outputs": [],
   "source": [
    "import requests\n",
    "import pandas as pd\n",
    "import json\n",
    "from prettytable import PrettyTable\n",
    "import streamlit as st\n",
    "# from data import utils"
   ]
  },
  {
   "cell_type": "code",
   "execution_count": 8,
   "metadata": {},
   "outputs": [
    {
     "name": "stderr",
     "output_type": "stream",
     "text": [
      "2024-06-22 13:54:03.221 WARNING streamlit.runtime.caching.cache_data_api: No runtime found, using MemoryCacheStorageManager\n"
     ]
    }
   ],
   "source": [
    "@st.cache_data\n",
    "\n",
    "def fetch_data(series_id):\n",
    "    \n",
    "    \"\"\"Fetch observations for a FRED series and save to a DataFrame.\"\"\"\n",
    "    url = f\"https://api.stlouisfed.org/fred/series/observations\"\n",
    "    \n",
    "    api_key = \"9648695895d3facac4fba9c7cb834427\"\n",
    "    \n",
    "    params = {\n",
    "        \"series_id\": series_id,\n",
    "        \"api_key\": api_key,\n",
    "        \"file_type\": \"json\"\n",
    "    }\n",
    "    response = requests.get(url, params=params)\n",
    "    \n",
    "\n",
    "    data = response.json()\n",
    "    observations = data.get('observations', [])\n",
    "    # Create DataFrame\n",
    "    df = pd.DataFrame(observations)\n",
    "    # Display the DataFrame\n",
    "    \n",
    "    return df"
   ]
  },
  {
   "cell_type": "code",
   "execution_count": 1,
   "metadata": {},
   "outputs": [],
   "source": [
    "def get_gdp(freq, series_id): \n",
    "\n",
    "    # Define the URL and parameters\n",
    "    url = 'http://dataservices.imf.org/REST/SDMX_JSON.svc/'\n",
    "\n",
    "    param = [('dataset', 'IFS'),\n",
    "            ('freq', freq),\n",
    "            ('country', 'US'),\n",
    "            ('series', series_id), \n",
    "            ('start', '?startPeriod=1920')]\n",
    "\n",
    "\n",
    "    series = '.'.join([i[1] for i in param[1:4]])\n",
    "\n",
    "    key = f'CompactData/{param[0][1]}/{series}{param[-1][1]}'\n",
    "\n",
    "    # Combine API url with key specific to data request\n",
    "    r = requests.get(f'{url}{key}').json()\n",
    "\n",
    "    # Extract the data portion of results\n",
    "    data = r['CompactData']['DataSet']['Series']\n",
    "\n",
    "    # Check if data is a list or a single dictionary\n",
    "    if isinstance(data, dict):\n",
    "        data = [data]\n",
    "\n",
    "    # Create pandas dataframe, column = country, row = obs\n",
    "    df = pd.DataFrame({s['@REF_AREA']:\n",
    "                    {i['@TIME_PERIOD']: float(i['@OBS_VALUE']) \n",
    "                        for i in s['Obs']} for s in data})\n",
    "\n",
    "    # Convert index to datetime\n",
    "    df.index = pd.to_datetime(df.index)\n",
    "    \n",
    "    return df"
   ]
  },
  {
   "cell_type": "markdown",
   "metadata": {},
   "source": [
    "1.2 CPI and PPI\n",
    "\n",
    "https://data.bls.gov/cgi-bin/surveymost?bls\n"
   ]
  },
  {
   "cell_type": "code",
   "execution_count": 2,
   "metadata": {},
   "outputs": [],
   "source": [
    "# series_id = ['WPSFD4'] #'CUUR0000SA0', 'WPSFD4','EIUIR','EIUIQ','LNS14000000' # PPI, CPI, Import, Export, Unemployment\n",
    "start_year = '1920'\n",
    "end_year = '2024'\n",
    "\n",
    "def get_bls_data(series_id, start_year, end_year): \n",
    "    \n",
    "    headers = {'Content-type': 'application/json'}\n",
    "    \n",
    "    series_data = json.dumps({\"seriesid\": [series_id] ,\"startyear\" : start_year, \"endyear\" : end_year})  \n",
    "\n",
    "    p = requests.post('https://api.bls.gov/publicAPI/v2/timeseries/data/', data = series_data, headers = headers)\n",
    "    json_data = json.loads(p.text)\n",
    "    for series in json_data['Results']['series']:\n",
    "        x=prettytable.PrettyTable([\"series id\",\"year\",\"period\",\"value\",\"footnotes\"])\n",
    "        seriesId = series['seriesID']\n",
    "        for item in series['data']:\n",
    "            year = item['year']\n",
    "            period = item['period']\n",
    "            value = item['value']\n",
    "            footnotes=\"\"\n",
    "            for footnote in item['footnotes']:\n",
    "                if footnote:\n",
    "                    footnotes = footnotes + footnote['text'] + ','\n",
    "            if 'M01' <= period <= 'M12':\n",
    "                x.add_row([seriesId,year,period,value,footnotes[0:-1]])\n",
    "        output = open(seriesId + '.txt','w')\n",
    "        output.write (x.get_string())\n",
    "        output.close()\n",
    "        \n",
    "    # Extract the relevant data\n",
    "    series_data = json_data['Results']['series'][0]['data']\n",
    "    # Convert to DataFrame\n",
    "\n",
    "    df = pd.DataFrame(series_data)\n",
    "\n",
    "    return df\n",
    "    "
   ]
  },
  {
   "cell_type": "code",
   "execution_count": 3,
   "metadata": {},
   "outputs": [
    {
     "ename": "NameError",
     "evalue": "name 'json' is not defined",
     "output_type": "error",
     "traceback": [
      "\u001b[0;31m---------------------------------------------------------------------------\u001b[0m",
      "\u001b[0;31mNameError\u001b[0m                                 Traceback (most recent call last)",
      "\u001b[1;32m/Users/t0l0bkk/Documents/TTL/github/ecom-indicator-dash/data/temp_indicators.ipynb Cell 6\u001b[0m line \u001b[0;36m2\n\u001b[1;32m      <a href='vscode-notebook-cell:/Users/t0l0bkk/Documents/TTL/github/ecom-indicator-dash/data/temp_indicators.ipynb#W5sZmlsZQ%3D%3D?line=0'>1</a>\u001b[0m \u001b[39m# CPI\u001b[39;00m\n\u001b[0;32m----> <a href='vscode-notebook-cell:/Users/t0l0bkk/Documents/TTL/github/ecom-indicator-dash/data/temp_indicators.ipynb#W5sZmlsZQ%3D%3D?line=1'>2</a>\u001b[0m df_cpi \u001b[39m=\u001b[39m get_bls_data(\u001b[39m'\u001b[39;49m\u001b[39mWPSFD4\u001b[39;49m\u001b[39m'\u001b[39;49m, start_year, end_year)\n\u001b[1;32m      <a href='vscode-notebook-cell:/Users/t0l0bkk/Documents/TTL/github/ecom-indicator-dash/data/temp_indicators.ipynb#W5sZmlsZQ%3D%3D?line=3'>4</a>\u001b[0m \u001b[39m# PPI\u001b[39;00m\n\u001b[1;32m      <a href='vscode-notebook-cell:/Users/t0l0bkk/Documents/TTL/github/ecom-indicator-dash/data/temp_indicators.ipynb#W5sZmlsZQ%3D%3D?line=4'>5</a>\u001b[0m df_ppi \u001b[39m=\u001b[39m get_bls_data(\u001b[39m'\u001b[39m\u001b[39mCUUR0000SA0\u001b[39m\u001b[39m'\u001b[39m, start_year, end_year)\n",
      "\u001b[1;32m/Users/t0l0bkk/Documents/TTL/github/ecom-indicator-dash/data/temp_indicators.ipynb Cell 6\u001b[0m line \u001b[0;36m9\n\u001b[1;32m      <a href='vscode-notebook-cell:/Users/t0l0bkk/Documents/TTL/github/ecom-indicator-dash/data/temp_indicators.ipynb#W5sZmlsZQ%3D%3D?line=4'>5</a>\u001b[0m \u001b[39mdef\u001b[39;00m \u001b[39mget_bls_data\u001b[39m(series_id, start_year, end_year): \n\u001b[1;32m      <a href='vscode-notebook-cell:/Users/t0l0bkk/Documents/TTL/github/ecom-indicator-dash/data/temp_indicators.ipynb#W5sZmlsZQ%3D%3D?line=6'>7</a>\u001b[0m     headers \u001b[39m=\u001b[39m {\u001b[39m'\u001b[39m\u001b[39mContent-type\u001b[39m\u001b[39m'\u001b[39m: \u001b[39m'\u001b[39m\u001b[39mapplication/json\u001b[39m\u001b[39m'\u001b[39m}\n\u001b[0;32m----> <a href='vscode-notebook-cell:/Users/t0l0bkk/Documents/TTL/github/ecom-indicator-dash/data/temp_indicators.ipynb#W5sZmlsZQ%3D%3D?line=8'>9</a>\u001b[0m     series_data \u001b[39m=\u001b[39m json\u001b[39m.\u001b[39mdumps({\u001b[39m\"\u001b[39m\u001b[39mseriesid\u001b[39m\u001b[39m\"\u001b[39m: [series_id] ,\u001b[39m\"\u001b[39m\u001b[39mstartyear\u001b[39m\u001b[39m\"\u001b[39m : start_year, \u001b[39m\"\u001b[39m\u001b[39mendyear\u001b[39m\u001b[39m\"\u001b[39m : end_year})  \n\u001b[1;32m     <a href='vscode-notebook-cell:/Users/t0l0bkk/Documents/TTL/github/ecom-indicator-dash/data/temp_indicators.ipynb#W5sZmlsZQ%3D%3D?line=10'>11</a>\u001b[0m     p \u001b[39m=\u001b[39m requests\u001b[39m.\u001b[39mpost(\u001b[39m'\u001b[39m\u001b[39mhttps://api.bls.gov/publicAPI/v2/timeseries/data/\u001b[39m\u001b[39m'\u001b[39m, data \u001b[39m=\u001b[39m series_data, headers \u001b[39m=\u001b[39m headers)\n\u001b[1;32m     <a href='vscode-notebook-cell:/Users/t0l0bkk/Documents/TTL/github/ecom-indicator-dash/data/temp_indicators.ipynb#W5sZmlsZQ%3D%3D?line=11'>12</a>\u001b[0m     json_data \u001b[39m=\u001b[39m json\u001b[39m.\u001b[39mloads(p\u001b[39m.\u001b[39mtext)\n",
      "\u001b[0;31mNameError\u001b[0m: name 'json' is not defined"
     ]
    }
   ],
   "source": [
    "# CPI\n",
    "df_cpi = get_bls_data('WPSFD4', start_year, end_year)\n",
    "\n",
    "# PPI\n",
    "df_ppi = get_bls_data('CUUR0000SA0', start_year, end_year)\n",
    "\n",
    "# unemployment rate\n",
    "df_unemployment_rate = get_bls_data('LNS14000000', start_year, end_year) "
   ]
  },
  {
   "cell_type": "code",
   "execution_count": null,
   "metadata": {},
   "outputs": [
    {
     "data": {
      "text/html": [
       "<div>\n",
       "<style scoped>\n",
       "    .dataframe tbody tr th:only-of-type {\n",
       "        vertical-align: middle;\n",
       "    }\n",
       "\n",
       "    .dataframe tbody tr th {\n",
       "        vertical-align: top;\n",
       "    }\n",
       "\n",
       "    .dataframe thead th {\n",
       "        text-align: right;\n",
       "    }\n",
       "</style>\n",
       "<table border=\"1\" class=\"dataframe\">\n",
       "  <thead>\n",
       "    <tr style=\"text-align: right;\">\n",
       "      <th></th>\n",
       "      <th>year</th>\n",
       "      <th>period</th>\n",
       "      <th>periodName</th>\n",
       "      <th>value</th>\n",
       "      <th>footnotes</th>\n",
       "    </tr>\n",
       "  </thead>\n",
       "  <tbody>\n",
       "    <tr>\n",
       "      <th>0</th>\n",
       "      <td>1929</td>\n",
       "      <td>M12</td>\n",
       "      <td>December</td>\n",
       "      <td>17.2</td>\n",
       "      <td>[{}]</td>\n",
       "    </tr>\n",
       "    <tr>\n",
       "      <th>1</th>\n",
       "      <td>1929</td>\n",
       "      <td>M11</td>\n",
       "      <td>November</td>\n",
       "      <td>17.3</td>\n",
       "      <td>[{}]</td>\n",
       "    </tr>\n",
       "    <tr>\n",
       "      <th>2</th>\n",
       "      <td>1929</td>\n",
       "      <td>M10</td>\n",
       "      <td>October</td>\n",
       "      <td>17.3</td>\n",
       "      <td>[{}]</td>\n",
       "    </tr>\n",
       "    <tr>\n",
       "      <th>3</th>\n",
       "      <td>1929</td>\n",
       "      <td>M09</td>\n",
       "      <td>September</td>\n",
       "      <td>17.3</td>\n",
       "      <td>[{}]</td>\n",
       "    </tr>\n",
       "    <tr>\n",
       "      <th>4</th>\n",
       "      <td>1929</td>\n",
       "      <td>M08</td>\n",
       "      <td>August</td>\n",
       "      <td>17.3</td>\n",
       "      <td>[{}]</td>\n",
       "    </tr>\n",
       "    <tr>\n",
       "      <th>...</th>\n",
       "      <td>...</td>\n",
       "      <td>...</td>\n",
       "      <td>...</td>\n",
       "      <td>...</td>\n",
       "      <td>...</td>\n",
       "    </tr>\n",
       "    <tr>\n",
       "      <th>115</th>\n",
       "      <td>1920</td>\n",
       "      <td>M05</td>\n",
       "      <td>May</td>\n",
       "      <td>20.6</td>\n",
       "      <td>[{}]</td>\n",
       "    </tr>\n",
       "    <tr>\n",
       "      <th>116</th>\n",
       "      <td>1920</td>\n",
       "      <td>M04</td>\n",
       "      <td>April</td>\n",
       "      <td>20.3</td>\n",
       "      <td>[{}]</td>\n",
       "    </tr>\n",
       "    <tr>\n",
       "      <th>117</th>\n",
       "      <td>1920</td>\n",
       "      <td>M03</td>\n",
       "      <td>March</td>\n",
       "      <td>19.7</td>\n",
       "      <td>[{}]</td>\n",
       "    </tr>\n",
       "    <tr>\n",
       "      <th>118</th>\n",
       "      <td>1920</td>\n",
       "      <td>M02</td>\n",
       "      <td>February</td>\n",
       "      <td>19.5</td>\n",
       "      <td>[{}]</td>\n",
       "    </tr>\n",
       "    <tr>\n",
       "      <th>119</th>\n",
       "      <td>1920</td>\n",
       "      <td>M01</td>\n",
       "      <td>January</td>\n",
       "      <td>19.3</td>\n",
       "      <td>[{}]</td>\n",
       "    </tr>\n",
       "  </tbody>\n",
       "</table>\n",
       "<p>120 rows × 5 columns</p>\n",
       "</div>"
      ],
      "text/plain": [
       "     year period periodName value footnotes\n",
       "0    1929    M12   December  17.2      [{}]\n",
       "1    1929    M11   November  17.3      [{}]\n",
       "2    1929    M10    October  17.3      [{}]\n",
       "3    1929    M09  September  17.3      [{}]\n",
       "4    1929    M08     August  17.3      [{}]\n",
       "..    ...    ...        ...   ...       ...\n",
       "115  1920    M05        May  20.6      [{}]\n",
       "116  1920    M04      April  20.3      [{}]\n",
       "117  1920    M03      March  19.7      [{}]\n",
       "118  1920    M02   February  19.5      [{}]\n",
       "119  1920    M01    January  19.3      [{}]\n",
       "\n",
       "[120 rows x 5 columns]"
      ]
     },
     "execution_count": 41,
     "metadata": {},
     "output_type": "execute_result"
    }
   ],
   "source": [
    "df_ppi"
   ]
  },
  {
   "cell_type": "code",
   "execution_count": null,
   "metadata": {},
   "outputs": [],
   "source": [
    "series_id = 'NGDP_XDC' # Nominal GDP in national currency \n",
    "freq = 'A'\n",
    "\n",
    "df_gdp = get_gdp(freq, series_id)"
   ]
  },
  {
   "cell_type": "code",
   "execution_count": null,
   "metadata": {},
   "outputs": [
    {
     "ename": "ImportError",
     "evalue": "attempted relative import with no known parent package",
     "output_type": "error",
     "traceback": [
      "\u001b[0;31m---------------------------------------------------------------------------\u001b[0m",
      "\u001b[0;31mImportError\u001b[0m                               Traceback (most recent call last)",
      "\u001b[1;32m/Users/t0l0bkk/Documents/TTL/github/ecom-indicator-dash/data/temp_indicators.ipynb Cell 9\u001b[0m line \u001b[0;36m4\n\u001b[1;32m      <a href='vscode-notebook-cell:/Users/t0l0bkk/Documents/TTL/github/ecom-indicator-dash/data/temp_indicators.ipynb#X23sZmlsZQ%3D%3D?line=1'>2</a>\u001b[0m \u001b[39mimport\u001b[39;00m \u001b[39mmath\u001b[39;00m\n\u001b[1;32m      <a href='vscode-notebook-cell:/Users/t0l0bkk/Documents/TTL/github/ecom-indicator-dash/data/temp_indicators.ipynb#X23sZmlsZQ%3D%3D?line=2'>3</a>\u001b[0m \u001b[39mfrom\u001b[39;00m \u001b[39mprettytable\u001b[39;00m \u001b[39mimport\u001b[39;00m PrettyTable\n\u001b[0;32m----> <a href='vscode-notebook-cell:/Users/t0l0bkk/Documents/TTL/github/ecom-indicator-dash/data/temp_indicators.ipynb#X23sZmlsZQ%3D%3D?line=3'>4</a>\u001b[0m \u001b[39mfrom\u001b[39;00m \u001b[39m.\u001b[39;00m\u001b[39m.\u001b[39;00m\u001b[39mdata\u001b[39;00m \u001b[39mimport\u001b[39;00m indicators_data \u001b[39mas\u001b[39;00m indicators\n\u001b[1;32m      <a href='vscode-notebook-cell:/Users/t0l0bkk/Documents/TTL/github/ecom-indicator-dash/data/temp_indicators.ipynb#X23sZmlsZQ%3D%3D?line=7'>8</a>\u001b[0m \u001b[39m# def df_gdp():\u001b[39;00m\n\u001b[1;32m      <a href='vscode-notebook-cell:/Users/t0l0bkk/Documents/TTL/github/ecom-indicator-dash/data/temp_indicators.ipynb#X23sZmlsZQ%3D%3D?line=8'>9</a>\u001b[0m     \n\u001b[1;32m     <a href='vscode-notebook-cell:/Users/t0l0bkk/Documents/TTL/github/ecom-indicator-dash/data/temp_indicators.ipynb#X23sZmlsZQ%3D%3D?line=9'>10</a>\u001b[0m \u001b[39m#     i = indicators.get_major_indicators()\u001b[39;00m\n\u001b[0;32m   (...)\u001b[0m\n\u001b[1;32m     <a href='vscode-notebook-cell:/Users/t0l0bkk/Documents/TTL/github/ecom-indicator-dash/data/temp_indicators.ipynb#X23sZmlsZQ%3D%3D?line=37'>38</a>\u001b[0m \n\u001b[1;32m     <a href='vscode-notebook-cell:/Users/t0l0bkk/Documents/TTL/github/ecom-indicator-dash/data/temp_indicators.ipynb#X23sZmlsZQ%3D%3D?line=38'>39</a>\u001b[0m \u001b[39m# def df_cpi_ppi():\u001b[39;00m\n\u001b[1;32m     <a href='vscode-notebook-cell:/Users/t0l0bkk/Documents/TTL/github/ecom-indicator-dash/data/temp_indicators.ipynb#X23sZmlsZQ%3D%3D?line=40'>41</a>\u001b[0m i \u001b[39m=\u001b[39m indicators\u001b[39m.\u001b[39mget_major_indicators()\n",
      "\u001b[0;31mImportError\u001b[0m: attempted relative import with no known parent package"
     ]
    }
   ],
   "source": [
    "\n",
    "import pandas as pd\n",
    "import math\n",
    "from prettytable import PrettyTable\n",
    "from ..data import indicators_data as indicators\n",
    "\n",
    "\n",
    "\n",
    "# def df_gdp():\n",
    "    \n",
    "#     i = indicators.get_major_indicators()\n",
    "    \n",
    "#     #inputs\n",
    "#     us_gdp_pct_change = i.gdp_pct_change\n",
    "#     us_gdp = i.gdp\n",
    "#     us_real_gdp = i.real_gdp\n",
    "     \n",
    "#     # format\n",
    "#     df_gdp = pd.merge(us_gdp_pct_change, us_gdp, on = 'date', how = 'outer')\n",
    "#     df_gdp = pd.merge(df_gdp, us_real_gdp, on = 'date', how = 'outer')\n",
    "#     df_gdp = df_gdp.sort_values(by='date', ascending= True).reset_index(drop = True)\n",
    "#     df_gdp['date'] = pd.to_datetime(df_gdp['date'])\n",
    "#     # Function to convert date to quarter\n",
    "#     def date_to_quarter(date):\n",
    "#         return f\"{date.year} Q{((date.month - 1) // 3) + 1}\"\n",
    "#     # Apply the function to the dataframe\n",
    "#     df_gdp['Quarter'] = df_gdp['date'].apply(date_to_quarter)\n",
    "#     df_gdp = df_gdp[df_gdp['date']>='1948-01-01']\n",
    "#     # Convert 'GDP' and 'Real_GDP' columns to numeric, coercing errors\n",
    "#     df_gdp['GDP'] = pd.to_numeric(df_gdp['GDP'], errors='coerce')\n",
    "#     df_gdp['Real_GDP'] = pd.to_numeric(df_gdp['Real_GDP'], errors='coerce')\n",
    "\n",
    "#     # Round up GDP values to integers\n",
    "#     df_gdp['GDP'] = df_gdp['GDP'].apply(lambda x: math.ceil(x) if pd.notnull(x) else x)\n",
    "#     df_gdp['Real_GDP'] = df_gdp['Real_GDP'].apply(lambda x: math.ceil(x) if pd.notnull(x) else x)\n",
    "    \n",
    "#     return df_gdp\n",
    "\n",
    "\n",
    "# def df_cpi_ppi():\n",
    "    \n",
    "i = indicators.get_major_indicators()\n",
    "i.get_ir_10yr()"
   ]
  }
 ],
 "metadata": {
  "kernelspec": {
   "display_name": "Python 3",
   "language": "python",
   "name": "python3"
  },
  "language_info": {
   "codemirror_mode": {
    "name": "ipython",
    "version": 3
   },
   "file_extension": ".py",
   "mimetype": "text/x-python",
   "name": "python",
   "nbconvert_exporter": "python",
   "pygments_lexer": "ipython3",
   "version": "3.11.6"
  }
 },
 "nbformat": 4,
 "nbformat_minor": 2
}
