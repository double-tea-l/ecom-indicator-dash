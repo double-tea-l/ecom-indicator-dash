{
 "cells": [
  {
   "cell_type": "code",
   "execution_count": 4,
   "metadata": {},
   "outputs": [
    {
     "ename": "ImportError",
     "evalue": "attempted relative import with no known parent package",
     "output_type": "error",
     "traceback": [
      "\u001b[0;31m---------------------------------------------------------------------------\u001b[0m",
      "\u001b[0;31mImportError\u001b[0m                               Traceback (most recent call last)",
      "\u001b[1;32m/Users/t0l0bkk/Documents/TTL/github/ecom-indicator-dash/pages/test.ipynb Cell 1\u001b[0m line \u001b[0;36m1\n\u001b[1;32m     <a href='vscode-notebook-cell:/Users/t0l0bkk/Documents/TTL/github/ecom-indicator-dash/pages/test.ipynb#W0sZmlsZQ%3D%3D?line=10'>11</a>\u001b[0m \u001b[39mimport\u001b[39;00m \u001b[39msys\u001b[39;00m\n\u001b[1;32m     <a href='vscode-notebook-cell:/Users/t0l0bkk/Documents/TTL/github/ecom-indicator-dash/pages/test.ipynb#W0sZmlsZQ%3D%3D?line=11'>12</a>\u001b[0m \u001b[39mimport\u001b[39;00m \u001b[39mos\u001b[39;00m\n\u001b[0;32m---> <a href='vscode-notebook-cell:/Users/t0l0bkk/Documents/TTL/github/ecom-indicator-dash/pages/test.ipynb#W0sZmlsZQ%3D%3D?line=12'>13</a>\u001b[0m \u001b[39mfrom\u001b[39;00m \u001b[39m.\u001b[39;00m\u001b[39m.\u001b[39;00m\u001b[39mdata\u001b[39;00m \u001b[39mimport\u001b[39;00m indicators_prep \u001b[39mas\u001b[39;00m ind_prep\n\u001b[1;32m     <a href='vscode-notebook-cell:/Users/t0l0bkk/Documents/TTL/github/ecom-indicator-dash/pages/test.ipynb#W0sZmlsZQ%3D%3D?line=14'>15</a>\u001b[0m ind_prep\u001b[39m.\u001b[39mdf_gdp\n",
      "\u001b[0;31mImportError\u001b[0m: attempted relative import with no known parent package"
     ]
    }
   ],
   "source": [
    "import requests\n",
    "import pandas as pd\n",
    "import numpy as np\n",
    "import math\n",
    "import prettytable\n",
    "import streamlit as st\n",
    "import matplotlib.pyplot as plt\n",
    "import altair as alt\n",
    "import plotly.graph_objects as go\n",
    "from streamlit_navigation_bar import st_navbar\n",
    "import sys\n",
    "import os\n",
    "from ..data import indicators_prep as ind_prep\n",
    "\n",
    "ind_prep.df_gdp\n"
   ]
  }
 ],
 "metadata": {
  "kernelspec": {
   "display_name": "Python 3",
   "language": "python",
   "name": "python3"
  },
  "language_info": {
   "codemirror_mode": {
    "name": "ipython",
    "version": 3
   },
   "file_extension": ".py",
   "mimetype": "text/x-python",
   "name": "python",
   "nbconvert_exporter": "python",
   "pygments_lexer": "ipython3",
   "version": "3.11.6"
  }
 },
 "nbformat": 4,
 "nbformat_minor": 2
}
